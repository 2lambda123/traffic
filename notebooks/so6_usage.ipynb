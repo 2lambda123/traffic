{
 "cells": [
  {
   "cell_type": "markdown",
   "metadata": {},
   "source": [
    "## Reading a so6 file"
   ]
  },
  {
   "cell_type": "code",
   "execution_count": null,
   "metadata": {},
   "outputs": [],
   "source": [
    "# Reading a zipped file (with libarchive)\n",
    "from traffic.so6 import SO6\n",
    "so6 = SO6.parse_file(\"../data/20180101_20180101_0000_2359_____m3.so6.7z\")\n",
    "\n",
    "# Serialize \n",
    "so6.to_pkl(\"../data/20180101_20180101_0000_2359_____m3.pkl\")"
   ]
  },
  {
   "cell_type": "code",
   "execution_count": 1,
   "metadata": {
    "collapsed": true
   },
   "outputs": [],
   "source": [
    "# Read the serialized version\n",
    "from traffic.so6 import SO6\n",
    "so6 = SO6.parse_file(\"../data/20180101_20180101_0000_2359_____m3.pkl\")"
   ]
  },
  {
   "cell_type": "code",
   "execution_count": 2,
   "metadata": {},
   "outputs": [
    {
     "data": {
      "image/svg+xml": [
       "<svg xmlns=\"http://www.w3.org/2000/svg\" xmlns:xlink=\"http://www.w3.org/1999/xlink\" width=\"300\" height=\"300\" viewBox=\"-22064.364032842677 4643541.548496112 400649.87556558463 148424.4619210167\" preserveAspectRatio=\"xMinYMin meet\"><g transform=\"matrix(1,0,0,-1,0,9435507.558913242)\"><polyline fill=\"none\" stroke=\"#66cc99\" stroke-width=\"2670.999170437231\" points=\"363746.62725253514,4658380.432776319 93398.87407311927,4754561.883957243 36435.06118046089,4774490.218033796 -7225.479752635839,4777127.126136922\" opacity=\"0.8\" /></g></svg>"
      ],
      "text/html": [
       "<b>HOP36PP</b> {332206265}:<br/>LFML (2018-01-01 19:15:40) → LFBD (2018-01-01 19:58:00)<div style=\"white-space: nowrap\"><svg xmlns=\"http://www.w3.org/2000/svg\" xmlns:xlink=\"http://www.w3.org/1999/xlink\" width=\"300\" height=\"300\" viewBox=\"-22064.364032842677 4643541.548496112 400649.87556558463 148424.4619210167\" preserveAspectRatio=\"xMinYMin meet\"><g transform=\"matrix(1,0,0,-1,0,9435507.558913242)\"><polyline fill=\"none\" stroke=\"#66cc99\" stroke-width=\"2670.999170437231\" points=\"363746.62725253514,4658380.432776319 93398.87407311927,4754561.883957243 36435.06118046089,4774490.218033796 -7225.479752635839,4777127.126136922\" opacity=\"0.8\" /></g></svg></div>"
      ],
      "text/plain": [
       "<traffic.so6.so6.Flight at 0x7fb0040b93c8>"
      ]
     },
     "execution_count": 2,
     "metadata": {},
     "output_type": "execute_result"
    }
   ],
   "source": [
    "# Access a flight with brackets (and completion)\n",
    "so6['HOP36PP']"
   ]
  },
  {
   "cell_type": "code",
   "execution_count": 3,
   "metadata": {},
   "outputs": [
    {
     "data": {
      "image/svg+xml": [
       "<svg xmlns=\"http://www.w3.org/2000/svg\" xmlns:xlink=\"http://www.w3.org/1999/xlink\" width=\"300\" height=\"300\" viewBox=\"-22064.364032842677 4643541.548496112 400649.87556558463 148424.4619210167\" preserveAspectRatio=\"xMinYMin meet\"><g transform=\"matrix(1,0,0,-1,0,9435507.558913242)\"><polyline fill=\"none\" stroke=\"#66cc99\" stroke-width=\"2670.999170437231\" points=\"363746.62725253514,4658380.432776319 93398.87407311927,4754561.883957243 36435.06118046089,4774490.218033796 -7225.479752635839,4777127.126136922\" opacity=\"0.8\" /></g></svg>"
      ],
      "text/html": [
       "<b>HOP36PP</b> {332206265}:<br/>LFML (2018-01-01 19:15:40) → LFBD (2018-01-01 19:58:00)<div style=\"white-space: nowrap\"><svg xmlns=\"http://www.w3.org/2000/svg\" xmlns:xlink=\"http://www.w3.org/1999/xlink\" width=\"300\" height=\"300\" viewBox=\"-22064.364032842677 4643541.548496112 400649.87556558463 148424.4619210167\" preserveAspectRatio=\"xMinYMin meet\"><g transform=\"matrix(1,0,0,-1,0,9435507.558913242)\"><polyline fill=\"none\" stroke=\"#66cc99\" stroke-width=\"2670.999170437231\" points=\"363746.62725253514,4658380.432776319 93398.87407311927,4754561.883957243 36435.06118046089,4774490.218033796 -7225.479752635839,4777127.126136922\" opacity=\"0.8\" /></g></svg></div>"
      ],
      "text/plain": [
       "<traffic.so6.so6.Flight at 0x7fafc5305978>"
      ]
     },
     "execution_count": 3,
     "metadata": {},
     "output_type": "execute_result"
    }
   ],
   "source": [
    "# Access with unique id\n",
    "so6[332206265]"
   ]
  },
  {
   "cell_type": "code",
   "execution_count": 4,
   "metadata": {},
   "outputs": [
    {
     "data": {
      "text/html": [
       "<div>\n",
       "<style>\n",
       "    .dataframe thead tr:only-child th {\n",
       "        text-align: right;\n",
       "    }\n",
       "\n",
       "    .dataframe thead th {\n",
       "        text-align: left;\n",
       "    }\n",
       "\n",
       "    .dataframe tbody tr th {\n",
       "        vertical-align: top;\n",
       "    }\n",
       "</style>\n",
       "<table border=\"1\" class=\"dataframe\">\n",
       "  <thead>\n",
       "    <tr style=\"text-align: right;\">\n",
       "      <th></th>\n",
       "      <th>origin</th>\n",
       "      <th>destination</th>\n",
       "      <th>aircraft</th>\n",
       "      <th>alt1</th>\n",
       "      <th>alt2</th>\n",
       "      <th>callsign</th>\n",
       "      <th>lat1</th>\n",
       "      <th>lon1</th>\n",
       "      <th>lat2</th>\n",
       "      <th>lon2</th>\n",
       "      <th>flight_id</th>\n",
       "      <th>time1</th>\n",
       "      <th>time2</th>\n",
       "    </tr>\n",
       "  </thead>\n",
       "  <tbody>\n",
       "    <tr>\n",
       "      <th>65794</th>\n",
       "      <td>LFML</td>\n",
       "      <td>LFBD</td>\n",
       "      <td>A319</td>\n",
       "      <td>21800</td>\n",
       "      <td>27600</td>\n",
       "      <td>HOP36PP</td>\n",
       "      <td>43.608398</td>\n",
       "      <td>4.527325</td>\n",
       "      <td>44.543555</td>\n",
       "      <td>1.178150</td>\n",
       "      <td>332206265</td>\n",
       "      <td>2018-01-01 19:15:40</td>\n",
       "      <td>2018-01-01 19:44:50</td>\n",
       "    </tr>\n",
       "    <tr>\n",
       "      <th>65795</th>\n",
       "      <td>LFML</td>\n",
       "      <td>LFBD</td>\n",
       "      <td>A319</td>\n",
       "      <td>27600</td>\n",
       "      <td>17500</td>\n",
       "      <td>HOP36PP</td>\n",
       "      <td>44.543555</td>\n",
       "      <td>1.178150</td>\n",
       "      <td>44.726898</td>\n",
       "      <td>0.460837</td>\n",
       "      <td>332206265</td>\n",
       "      <td>2018-01-01 19:44:50</td>\n",
       "      <td>2018-01-01 19:52:10</td>\n",
       "    </tr>\n",
       "    <tr>\n",
       "      <th>65796</th>\n",
       "      <td>LFML</td>\n",
       "      <td>LFBD</td>\n",
       "      <td>A319</td>\n",
       "      <td>17500</td>\n",
       "      <td>9500</td>\n",
       "      <td>HOP36PP</td>\n",
       "      <td>44.726898</td>\n",
       "      <td>0.460837</td>\n",
       "      <td>44.751343</td>\n",
       "      <td>-0.091422</td>\n",
       "      <td>332206265</td>\n",
       "      <td>2018-01-01 19:52:10</td>\n",
       "      <td>2018-01-01 19:58:00</td>\n",
       "    </tr>\n",
       "  </tbody>\n",
       "</table>\n",
       "</div>"
      ],
      "text/plain": [
       "      origin destination aircraft   alt1   alt2 callsign       lat1      lon1  \\\n",
       "65794   LFML        LFBD     A319  21800  27600  HOP36PP  43.608398  4.527325   \n",
       "65795   LFML        LFBD     A319  27600  17500  HOP36PP  44.543555  1.178150   \n",
       "65796   LFML        LFBD     A319  17500   9500  HOP36PP  44.726898  0.460837   \n",
       "\n",
       "            lat2      lon2  flight_id               time1               time2  \n",
       "65794  44.543555  1.178150  332206265 2018-01-01 19:15:40 2018-01-01 19:44:50  \n",
       "65795  44.726898  0.460837  332206265 2018-01-01 19:44:50 2018-01-01 19:52:10  \n",
       "65796  44.751343 -0.091422  332206265 2018-01-01 19:52:10 2018-01-01 19:58:00  "
      ]
     },
     "execution_count": 4,
     "metadata": {},
     "output_type": "execute_result"
    }
   ],
   "source": [
    "# A pandas DataFrame is hidden behind\n",
    "so6['HOP36PP'].data.head()"
   ]
  },
  {
   "cell_type": "code",
   "execution_count": 5,
   "metadata": {},
   "outputs": [
    {
     "data": {
      "text/plain": [
       "True"
      ]
     },
     "execution_count": 5,
     "metadata": {},
     "output_type": "execute_result"
    }
   ],
   "source": [
    "# Does the aircraft fly through the sector?\n",
    "from traffic.data import sectors\n",
    "so6['HOP36PP'].intersects(sectors['LFBBBDX'])"
   ]
  },
  {
   "cell_type": "code",
   "execution_count": 6,
   "metadata": {},
   "outputs": [
    {
     "data": {
      "image/svg+xml": [
       "<svg xmlns=\"http://www.w3.org/2000/svg\" xmlns:xlink=\"http://www.w3.org/1999/xlink\" width=\"300\" height=\"300\" viewBox=\"-20317.650998594778 4660018.773758144 353488.6236408914 130200.52362473682\" preserveAspectRatio=\"xMinYMin meet\"><g transform=\"matrix(1,0,0,-1,0,9450238.071141025)\"><polyline fill=\"none\" stroke=\"#66cc99\" stroke-width=\"2356.590824272609\" points=\"320078.8013963377,4673110.945004103 93398.87407311927,4754561.883957243 36435.06118046089,4774490.218033796 -7225.479752635839,4777127.126136922\" opacity=\"0.8\" /></g></svg>"
      ],
      "text/html": [
       "<b>HOP36PP</b> {332206265}:<br/>LFML (2018-01-01 19:20:19.612862) → LFBD (2018-01-01 19:58:00)<div style=\"white-space: nowrap\"><svg xmlns=\"http://www.w3.org/2000/svg\" xmlns:xlink=\"http://www.w3.org/1999/xlink\" width=\"300\" height=\"300\" viewBox=\"-20317.650998594778 4660018.773758144 353488.6236408914 130200.52362473682\" preserveAspectRatio=\"xMinYMin meet\"><g transform=\"matrix(1,0,0,-1,0,9450238.071141025)\"><polyline fill=\"none\" stroke=\"#66cc99\" stroke-width=\"2356.590824272609\" points=\"320078.8013963377,4673110.945004103 93398.87407311927,4754561.883957243 36435.06118046089,4774490.218033796 -7225.479752635839,4777127.126136922\" opacity=\"0.8\" /></g></svg></div>"
      ],
      "text/plain": [
       "<traffic.so6.so6.Flight at 0x7fafc4ade7b8>"
      ]
     },
     "execution_count": 6,
     "metadata": {},
     "output_type": "execute_result"
    }
   ],
   "source": [
    "# Clip the flight on the 2D polygon of the sector\n",
    "so6['HOP36PP'].clip(sectors['LFBBBDX'].flatten())"
   ]
  },
  {
   "cell_type": "markdown",
   "metadata": {},
   "source": [
    "## Interpolation and temporal filtering"
   ]
  },
  {
   "cell_type": "code",
   "execution_count": 7,
   "metadata": {},
   "outputs": [
    {
     "data": {
      "text/plain": [
       "array([[  1.73315595e+00,   4.43885865e+01,   2.66388571e+04]])"
      ]
     },
     "execution_count": 7,
     "metadata": {},
     "output_type": "execute_result"
    }
   ],
   "source": [
    "# Interpolation at a given date (str (UTC), int (timestamp) or datetime)\n",
    "so6['HOP36PP'].at(\"2018/01/01 18:40\")"
   ]
  },
  {
   "cell_type": "code",
   "execution_count": 8,
   "metadata": {},
   "outputs": [
    {
     "data": {
      "text/html": [
       "<div>\n",
       "<style>\n",
       "    .dataframe thead tr:only-child th {\n",
       "        text-align: right;\n",
       "    }\n",
       "\n",
       "    .dataframe thead th {\n",
       "        text-align: left;\n",
       "    }\n",
       "\n",
       "    .dataframe tbody tr th {\n",
       "        vertical-align: top;\n",
       "    }\n",
       "</style>\n",
       "<table border=\"1\" class=\"dataframe\">\n",
       "  <thead>\n",
       "    <tr style=\"text-align: right;\">\n",
       "      <th></th>\n",
       "      <th>lon1</th>\n",
       "      <th>lat1</th>\n",
       "      <th>alt1</th>\n",
       "      <th>lon2</th>\n",
       "      <th>lat2</th>\n",
       "      <th>alt2</th>\n",
       "      <th>aircraft</th>\n",
       "      <th>callsign</th>\n",
       "      <th>destination</th>\n",
       "      <th>flight_id</th>\n",
       "      <th>origin</th>\n",
       "      <th>time1</th>\n",
       "      <th>time2</th>\n",
       "    </tr>\n",
       "  </thead>\n",
       "  <tbody>\n",
       "    <tr>\n",
       "      <th>0</th>\n",
       "      <td>3.455589</td>\n",
       "      <td>43.907649</td>\n",
       "      <td>23656.0</td>\n",
       "      <td>1.178150</td>\n",
       "      <td>44.543555</td>\n",
       "      <td>27600.000000</td>\n",
       "      <td>A319</td>\n",
       "      <td>HOP36PP</td>\n",
       "      <td>LFBD</td>\n",
       "      <td>332206265</td>\n",
       "      <td>LFML</td>\n",
       "      <td>2018-01-01 19:25:00</td>\n",
       "      <td>2018-01-01 19:44:50</td>\n",
       "    </tr>\n",
       "    <tr>\n",
       "      <th>1</th>\n",
       "      <td>1.178150</td>\n",
       "      <td>44.543555</td>\n",
       "      <td>27600.0</td>\n",
       "      <td>0.460837</td>\n",
       "      <td>44.726898</td>\n",
       "      <td>17500.000000</td>\n",
       "      <td>A319</td>\n",
       "      <td>HOP36PP</td>\n",
       "      <td>LFBD</td>\n",
       "      <td>332206265</td>\n",
       "      <td>LFML</td>\n",
       "      <td>2018-01-01 19:44:50</td>\n",
       "      <td>2018-01-01 19:52:10</td>\n",
       "    </tr>\n",
       "    <tr>\n",
       "      <th>2</th>\n",
       "      <td>0.460837</td>\n",
       "      <td>44.726898</td>\n",
       "      <td>17500.0</td>\n",
       "      <td>0.192597</td>\n",
       "      <td>44.738771</td>\n",
       "      <td>13614.285714</td>\n",
       "      <td>A319</td>\n",
       "      <td>HOP36PP</td>\n",
       "      <td>LFBD</td>\n",
       "      <td>332206265</td>\n",
       "      <td>LFML</td>\n",
       "      <td>2018-01-01 19:52:10</td>\n",
       "      <td>2018-01-01 19:55:00</td>\n",
       "    </tr>\n",
       "  </tbody>\n",
       "</table>\n",
       "</div>"
      ],
      "text/plain": [
       "       lon1       lat1     alt1      lon2       lat2          alt2 aircraft  \\\n",
       "0  3.455589  43.907649  23656.0  1.178150  44.543555  27600.000000     A319   \n",
       "1  1.178150  44.543555  27600.0  0.460837  44.726898  17500.000000     A319   \n",
       "2  0.460837  44.726898  17500.0  0.192597  44.738771  13614.285714     A319   \n",
       "\n",
       "  callsign destination  flight_id origin               time1  \\\n",
       "0  HOP36PP        LFBD  332206265   LFML 2018-01-01 19:25:00   \n",
       "1  HOP36PP        LFBD  332206265   LFML 2018-01-01 19:44:50   \n",
       "2  HOP36PP        LFBD  332206265   LFML 2018-01-01 19:52:10   \n",
       "\n",
       "                time2  \n",
       "0 2018-01-01 19:44:50  \n",
       "1 2018-01-01 19:52:10  \n",
       "2 2018-01-01 19:55:00  "
      ]
     },
     "execution_count": 8,
     "metadata": {},
     "output_type": "execute_result"
    }
   ],
   "source": [
    "# Interpolation inside a given interval\n",
    "so6['HOP36PP'].between(\"2018/01/01 18:25\", \"2018/01/01 18:55\").data"
   ]
  },
  {
   "cell_type": "code",
   "execution_count": 9,
   "metadata": {},
   "outputs": [
    {
     "data": {
      "text/html": [
       "<div>\n",
       "<style>\n",
       "    .dataframe thead tr:only-child th {\n",
       "        text-align: right;\n",
       "    }\n",
       "\n",
       "    .dataframe thead th {\n",
       "        text-align: left;\n",
       "    }\n",
       "\n",
       "    .dataframe tbody tr th {\n",
       "        vertical-align: top;\n",
       "    }\n",
       "</style>\n",
       "<table border=\"1\" class=\"dataframe\">\n",
       "  <thead>\n",
       "    <tr style=\"text-align: right;\">\n",
       "      <th></th>\n",
       "      <th>lon1</th>\n",
       "      <th>lat1</th>\n",
       "      <th>alt1</th>\n",
       "      <th>lon2</th>\n",
       "      <th>lat2</th>\n",
       "      <th>alt2</th>\n",
       "      <th>aircraft</th>\n",
       "      <th>callsign</th>\n",
       "      <th>destination</th>\n",
       "      <th>flight_id</th>\n",
       "      <th>origin</th>\n",
       "      <th>time1</th>\n",
       "      <th>time2</th>\n",
       "    </tr>\n",
       "  </thead>\n",
       "  <tbody>\n",
       "    <tr>\n",
       "      <th>0</th>\n",
       "      <td>3.455589</td>\n",
       "      <td>43.907649</td>\n",
       "      <td>23656.0</td>\n",
       "      <td>1.178150</td>\n",
       "      <td>44.543555</td>\n",
       "      <td>27600.000000</td>\n",
       "      <td>A319</td>\n",
       "      <td>HOP36PP</td>\n",
       "      <td>LFBD</td>\n",
       "      <td>332206265</td>\n",
       "      <td>LFML</td>\n",
       "      <td>2018-01-01 19:25:00</td>\n",
       "      <td>2018-01-01 19:44:50</td>\n",
       "    </tr>\n",
       "    <tr>\n",
       "      <th>1</th>\n",
       "      <td>1.178150</td>\n",
       "      <td>44.543555</td>\n",
       "      <td>27600.0</td>\n",
       "      <td>0.460837</td>\n",
       "      <td>44.726898</td>\n",
       "      <td>17500.000000</td>\n",
       "      <td>A319</td>\n",
       "      <td>HOP36PP</td>\n",
       "      <td>LFBD</td>\n",
       "      <td>332206265</td>\n",
       "      <td>LFML</td>\n",
       "      <td>2018-01-01 19:44:50</td>\n",
       "      <td>2018-01-01 19:52:10</td>\n",
       "    </tr>\n",
       "    <tr>\n",
       "      <th>2</th>\n",
       "      <td>0.460837</td>\n",
       "      <td>44.726898</td>\n",
       "      <td>17500.0</td>\n",
       "      <td>0.192597</td>\n",
       "      <td>44.738771</td>\n",
       "      <td>13614.285714</td>\n",
       "      <td>A319</td>\n",
       "      <td>HOP36PP</td>\n",
       "      <td>LFBD</td>\n",
       "      <td>332206265</td>\n",
       "      <td>LFML</td>\n",
       "      <td>2018-01-01 19:52:10</td>\n",
       "      <td>2018-01-01 19:55:00</td>\n",
       "    </tr>\n",
       "  </tbody>\n",
       "</table>\n",
       "</div>"
      ],
      "text/plain": [
       "       lon1       lat1     alt1      lon2       lat2          alt2 aircraft  \\\n",
       "0  3.455589  43.907649  23656.0  1.178150  44.543555  27600.000000     A319   \n",
       "1  1.178150  44.543555  27600.0  0.460837  44.726898  17500.000000     A319   \n",
       "2  0.460837  44.726898  17500.0  0.192597  44.738771  13614.285714     A319   \n",
       "\n",
       "  callsign destination  flight_id origin               time1  \\\n",
       "0  HOP36PP        LFBD  332206265   LFML 2018-01-01 19:25:00   \n",
       "1  HOP36PP        LFBD  332206265   LFML 2018-01-01 19:44:50   \n",
       "2  HOP36PP        LFBD  332206265   LFML 2018-01-01 19:52:10   \n",
       "\n",
       "                time2  \n",
       "0 2018-01-01 19:44:50  \n",
       "1 2018-01-01 19:52:10  \n",
       "2 2018-01-01 19:55:00  "
      ]
     },
     "execution_count": 9,
     "metadata": {},
     "output_type": "execute_result"
    }
   ],
   "source": [
    "# also with timedelta\n",
    "from datetime import timedelta\n",
    "so6['HOP36PP'].between(\"2018/01/01 18:25\", timedelta(minutes=30)).data"
   ]
  },
  {
   "cell_type": "code",
   "execution_count": 10,
   "metadata": {},
   "outputs": [
    {
     "data": {
      "text/plain": [
       "True"
      ]
     },
     "execution_count": 10,
     "metadata": {},
     "output_type": "execute_result"
    }
   ],
   "source": [
    "# intersection within a time interval\n",
    "so6['HOP36PP'].between(\"2018/01/01 18:25\", timedelta(minutes=30)).intersects(sectors['LFBBBDX'])"
   ]
  },
  {
   "cell_type": "code",
   "execution_count": 11,
   "metadata": {},
   "outputs": [
    {
     "data": {
      "text/plain": [
       "False"
      ]
     },
     "execution_count": 11,
     "metadata": {},
     "output_type": "execute_result"
    }
   ],
   "source": [
    "# The flight entered the sector earlier\n",
    "so6['HOP36PP'].between(\"2018/01/01 18:15\", timedelta(minutes=5)).intersects(sectors['LFBBBDX'])"
   ]
  },
  {
   "cell_type": "markdown",
   "metadata": {},
   "source": [
    "## Spatial filtering"
   ]
  },
  {
   "cell_type": "code",
   "execution_count": 13,
   "metadata": {},
   "outputs": [
    {
     "data": {
      "text/plain": [
       "11043"
      ]
     },
     "execution_count": 13,
     "metadata": {},
     "output_type": "execute_result"
    }
   ],
   "source": [
    "# Number of flights\n",
    "len(so6)"
   ]
  },
  {
   "cell_type": "code",
   "execution_count": 14,
   "metadata": {},
   "outputs": [
    {
     "name": "stdout",
     "output_type": "stream",
     "text": [
      "CPU times: user 7.04 s, sys: 8.83 ms, total: 7.05 s\n",
      "Wall time: 7.07 s\n"
     ]
    }
   ],
   "source": [
    "%%time\n",
    "# First, filter inside the bounding box (faster than polygon check)\n",
    "bdx_so6 = so6.inside_bbox(sectors[\"LFBBBDX\"])"
   ]
  },
  {
   "cell_type": "code",
   "execution_count": 15,
   "metadata": {},
   "outputs": [
    {
     "data": {
      "text/plain": [
       "1548"
      ]
     },
     "execution_count": 15,
     "metadata": {},
     "output_type": "execute_result"
    }
   ],
   "source": [
    "len(bdx_so6)"
   ]
  },
  {
   "cell_type": "code",
   "execution_count": 16,
   "metadata": {},
   "outputs": [
    {
     "name": "stdout",
     "output_type": "stream",
     "text": [
      "CPU times: user 5.98 ms, sys: 18 µs, total: 6 ms\n",
      "Wall time: 5.05 ms\n"
     ]
    }
   ],
   "source": [
    "%%time\n",
    "noon = so6.at(\"2018/01/01 12:00\")"
   ]
  },
  {
   "cell_type": "code",
   "execution_count": 17,
   "metadata": {},
   "outputs": [
    {
     "name": "stdout",
     "output_type": "stream",
     "text": [
      "CPU times: user 1.46 s, sys: 3.69 ms, total: 1.46 s\n",
      "Wall time: 1.49 s\n"
     ]
    }
   ],
   "source": [
    "%%time\n",
    "# usually faster, but not necessarily safe on small sectors...\n",
    "bdx_flights = noon.inside_bbox(sectors['LFBBBDX']).intersects(sectors['LFBBBDX'])"
   ]
  },
  {
   "cell_type": "markdown",
   "metadata": {},
   "source": [
    "## Misc."
   ]
  },
  {
   "cell_type": "code",
   "execution_count": 18,
   "metadata": {},
   "outputs": [
    {
     "data": {
      "text/plain": [
       "False"
      ]
     },
     "execution_count": 18,
     "metadata": {},
     "output_type": "execute_result"
    }
   ],
   "source": [
    "# Check a callsign is inside a so6\n",
    "'HOP32SS' in so6.callsigns"
   ]
  },
  {
   "cell_type": "code",
   "execution_count": 19,
   "metadata": {},
   "outputs": [
    {
     "data": {
      "text/plain": [
       "3"
      ]
     },
     "execution_count": 19,
     "metadata": {},
     "output_type": "execute_result"
    }
   ],
   "source": [
    "# Number of lines per flight\n",
    "len(so6['HOP36PP'])"
   ]
  },
  {
   "cell_type": "code",
   "execution_count": 20,
   "metadata": {
    "scrolled": false
   },
   "outputs": [
    {
     "data": {
      "text/plain": [
       "<generator object coords at 0x7f4b17bb15c8>"
      ]
     },
     "execution_count": 20,
     "metadata": {},
     "output_type": "execute_result"
    }
   ],
   "source": [
    "so6['HOP12VY'].coords"
   ]
  },
  {
   "cell_type": "code",
   "execution_count": 21,
   "metadata": {},
   "outputs": [
    {
     "data": {
      "text/plain": [
       "array([[  1.59301758e-01,   4.35558099e+01,   1.18000000e+04],\n",
       "       [  4.48697718e-01,   4.48324585e+01,   2.98000000e+04],\n",
       "       [  9.47364807e-01,   4.69432068e+01,   2.89000000e+04],\n",
       "       [  1.57856188e+00,   4.82308184e+01,   1.11000000e+04],\n",
       "       [  1.90267710e+00,   4.85295410e+01,   1.09000000e+04]])"
      ]
     },
     "execution_count": 21,
     "metadata": {},
     "output_type": "execute_result"
    }
   ],
   "source": [
    "# Advanced: get coordinates (also LineString)\n",
    "import numpy as np\n",
    "np.stack(so6['HOP12VY'].coords)[:5, :]"
   ]
  },
  {
   "cell_type": "code",
   "execution_count": 22,
   "metadata": {},
   "outputs": [
    {
     "data": {
      "text/plain": [
       "(array('d', [0.15930175781199998, 0.44869771817799997, 0.9473648071290001, 1.57856188322, 1.9026770958499999, 2.3891649748100003, 2.80042949476, 2.8312201248999997, 2.6234917891700005]),\n",
       " array('d', [43.555809926200006, 44.8324584961, 46.9432067871, 48.230818409, 48.529541015599996, 48.566273834700006, 48.6719939668, 48.7238531598, 48.754251771099995]))"
      ]
     },
     "execution_count": 22,
     "metadata": {},
     "output_type": "execute_result"
    }
   ],
   "source": [
    "# also LineString (but no altitude :())\n",
    "so6['HOP12VY'].linestring.xy"
   ]
  },
  {
   "cell_type": "code",
   "execution_count": 23,
   "metadata": {
    "scrolled": true
   },
   "outputs": [
    {
     "data": {
      "text/plain": [
       "array([Timestamp('2018-01-01 11:25:10'), Timestamp('2018-01-01 11:37:50'),\n",
       "       Timestamp('2018-01-01 11:57:30'), Timestamp('2018-01-01 12:10:10'),\n",
       "       Timestamp('2018-01-01 12:13:50')], dtype=object)"
      ]
     },
     "execution_count": 23,
     "metadata": {},
     "output_type": "execute_result"
    }
   ],
   "source": [
    "# Get timestamps\n",
    "np.stack(so6['HOP12VY'].times)[:5]"
   ]
  },
  {
   "cell_type": "code",
   "execution_count": 24,
   "metadata": {
    "collapsed": true
   },
   "outputs": [
    {
     "data": {
      "text/plain": [
       "array([ 11800.,  29800.,  28900.,  11100.,  10900.,  10900.,   7000.,\n",
       "         5400.,   5400.])"
      ]
     },
     "execution_count": 24,
     "metadata": {},
     "output_type": "execute_result"
    }
   ],
   "source": [
    "np.stack(so6['HOP12VY'].coords)[:,2]"
   ]
  },
  {
   "cell_type": "code",
   "execution_count": 32,
   "metadata": {},
   "outputs": [],
   "source": [
    "min_ = 10000\n",
    "max_ = 20000"
   ]
  },
  {
   "cell_type": "code",
   "execution_count": 25,
   "metadata": {},
   "outputs": [
    {
     "data": {
      "text/plain": [
       "[<matplotlib.lines.Line2D at 0x7f4b1ed64eb8>]"
      ]
     },
     "execution_count": 25,
     "metadata": {},
     "output_type": "execute_result"
    },
    {
     "data": {
      "image/png": "[encoded data removed]",
      "text/plain": [
       "<matplotlib.figure.Figure at 0x7f4b1ee069e8>"
      ]
     },
     "metadata": {},
     "output_type": "display_data"
    }
   ],
   "source": [
    "%matplotlib inline\n",
    "import matplotlib.pyplot as plt\n",
    "plt.plot(list(so6['HOP12VY'].times), np.stack(so6['HOP12VY'].coords)[:,2])"
   ]
  },
  {
   "cell_type": "code",
   "execution_count": 26,
   "metadata": {},
   "outputs": [
    {
     "data": {
      "text/plain": [
       "array([ 11800.,  29800.,  28900.,  11100.,  10900.,  10900.,   7000.,\n",
       "         5400.,   5400.])"
      ]
     },
     "execution_count": 26,
     "metadata": {},
     "output_type": "execute_result"
    }
   ],
   "source": [
    "np.stack(so6['HOP12VY'].coords)[:,2]"
   ]
  },
  {
   "cell_type": "code",
   "execution_count": 77,
   "metadata": {},
   "outputs": [],
   "source": []
  },
  {
   "cell_type": "code",
   "execution_count": 12,
   "metadata": {},
   "outputs": [
    {
     "data": {
      "text/html": [
       "<div>\n",
       "<style>\n",
       "    .dataframe thead tr:only-child th {\n",
       "        text-align: right;\n",
       "    }\n",
       "\n",
       "    .dataframe thead th {\n",
       "        text-align: left;\n",
       "    }\n",
       "\n",
       "    .dataframe tbody tr th {\n",
       "        vertical-align: top;\n",
       "    }\n",
       "</style>\n",
       "<table border=\"1\" class=\"dataframe\">\n",
       "  <thead>\n",
       "    <tr style=\"text-align: right;\">\n",
       "      <th></th>\n",
       "      <th>origin</th>\n",
       "      <th>destination</th>\n",
       "      <th>aircraft</th>\n",
       "      <th>alt1</th>\n",
       "      <th>alt2</th>\n",
       "      <th>callsign</th>\n",
       "      <th>lat1</th>\n",
       "      <th>lon1</th>\n",
       "      <th>lat2</th>\n",
       "      <th>lon2</th>\n",
       "      <th>flight_id</th>\n",
       "      <th>time1</th>\n",
       "      <th>time2</th>\n",
       "    </tr>\n",
       "  </thead>\n",
       "  <tbody>\n",
       "    <tr>\n",
       "      <th>0</th>\n",
       "      <td>LFBT</td>\n",
       "      <td>LFPO</td>\n",
       "      <td>F100</td>\n",
       "      <td>11800</td>\n",
       "      <td>20000</td>\n",
       "      <td>HOP12VY</td>\n",
       "      <td>43.55581</td>\n",
       "      <td>0.159302</td>\n",
       "      <td>44.137837</td>\n",
       "      <td>0.289737</td>\n",
       "      <td>274485420</td>\n",
       "      <td>2018-01-01 11:25:10</td>\n",
       "      <td>2018-01-01 11:37:50</td>\n",
       "    </tr>\n",
       "  </tbody>\n",
       "</table>\n",
       "</div>"
      ],
      "text/plain": [
       "  origin destination aircraft   alt1   alt2 callsign      lat1      lon1  \\\n",
       "0   LFBT        LFPO     F100  11800  20000  HOP12VY  43.55581  0.159302   \n",
       "\n",
       "        lat2      lon2  flight_id               time1               time2  \n",
       "0  44.137837  0.289737  274485420 2018-01-01 11:25:10 2018-01-01 11:37:50  "
      ]
     },
     "metadata": {},
     "output_type": "display_data"
    },
    {
     "data": {
      "text/html": [
       "<div>\n",
       "<style>\n",
       "    .dataframe thead tr:only-child th {\n",
       "        text-align: right;\n",
       "    }\n",
       "\n",
       "    .dataframe thead th {\n",
       "        text-align: left;\n",
       "    }\n",
       "\n",
       "    .dataframe tbody tr th {\n",
       "        vertical-align: top;\n",
       "    }\n",
       "</style>\n",
       "<table border=\"1\" class=\"dataframe\">\n",
       "  <thead>\n",
       "    <tr style=\"text-align: right;\">\n",
       "      <th></th>\n",
       "      <th>origin</th>\n",
       "      <th>destination</th>\n",
       "      <th>aircraft</th>\n",
       "      <th>alt1</th>\n",
       "      <th>alt2</th>\n",
       "      <th>callsign</th>\n",
       "      <th>lat1</th>\n",
       "      <th>lon1</th>\n",
       "      <th>lat2</th>\n",
       "      <th>lon2</th>\n",
       "      <th>flight_id</th>\n",
       "      <th>time1</th>\n",
       "      <th>time2</th>\n",
       "    </tr>\n",
       "  </thead>\n",
       "  <tbody>\n",
       "    <tr>\n",
       "      <th>0</th>\n",
       "      <td>LFBT</td>\n",
       "      <td>LFPO</td>\n",
       "      <td>F100</td>\n",
       "      <td>20000</td>\n",
       "      <td>11100</td>\n",
       "      <td>HOP12VY</td>\n",
       "      <td>47.587996</td>\n",
       "      <td>1.259658</td>\n",
       "      <td>48.230818</td>\n",
       "      <td>1.578562</td>\n",
       "      <td>274485420</td>\n",
       "      <td>2018-01-01 11:57:30</td>\n",
       "      <td>2018-01-01 12:10:10</td>\n",
       "    </tr>\n",
       "    <tr>\n",
       "      <th>1</th>\n",
       "      <td>LFBT</td>\n",
       "      <td>LFPO</td>\n",
       "      <td>F100</td>\n",
       "      <td>11100</td>\n",
       "      <td>10900</td>\n",
       "      <td>HOP12VY</td>\n",
       "      <td>48.230818</td>\n",
       "      <td>1.578562</td>\n",
       "      <td>48.529541</td>\n",
       "      <td>1.902677</td>\n",
       "      <td>274485420</td>\n",
       "      <td>2018-01-01 12:10:10</td>\n",
       "      <td>2018-01-01 12:13:50</td>\n",
       "    </tr>\n",
       "    <tr>\n",
       "      <th>2</th>\n",
       "      <td>LFBT</td>\n",
       "      <td>LFPO</td>\n",
       "      <td>F100</td>\n",
       "      <td>10900</td>\n",
       "      <td>10900</td>\n",
       "      <td>HOP12VY</td>\n",
       "      <td>48.529541</td>\n",
       "      <td>1.902677</td>\n",
       "      <td>48.566274</td>\n",
       "      <td>2.389165</td>\n",
       "      <td>274485420</td>\n",
       "      <td>2018-01-01 12:13:50</td>\n",
       "      <td>2018-01-01 12:17:10</td>\n",
       "    </tr>\n",
       "    <tr>\n",
       "      <th>3</th>\n",
       "      <td>LFBT</td>\n",
       "      <td>LFPO</td>\n",
       "      <td>F100</td>\n",
       "      <td>10900</td>\n",
       "      <td>10000</td>\n",
       "      <td>HOP12VY</td>\n",
       "      <td>48.566274</td>\n",
       "      <td>2.389165</td>\n",
       "      <td>48.590784</td>\n",
       "      <td>2.483944</td>\n",
       "      <td>274485420</td>\n",
       "      <td>2018-01-01 12:17:10</td>\n",
       "      <td>2018-01-01 12:20:30</td>\n",
       "    </tr>\n",
       "  </tbody>\n",
       "</table>\n",
       "</div>"
      ],
      "text/plain": [
       "  origin destination aircraft   alt1   alt2 callsign       lat1      lon1  \\\n",
       "0   LFBT        LFPO     F100  20000  11100  HOP12VY  47.587996  1.259658   \n",
       "1   LFBT        LFPO     F100  11100  10900  HOP12VY  48.230818  1.578562   \n",
       "2   LFBT        LFPO     F100  10900  10900  HOP12VY  48.529541  1.902677   \n",
       "3   LFBT        LFPO     F100  10900  10000  HOP12VY  48.566274  2.389165   \n",
       "\n",
       "        lat2      lon2  flight_id               time1               time2  \n",
       "0  48.230818  1.578562  274485420 2018-01-01 11:57:30 2018-01-01 12:10:10  \n",
       "1  48.529541  1.902677  274485420 2018-01-01 12:10:10 2018-01-01 12:13:50  \n",
       "2  48.566274  2.389165  274485420 2018-01-01 12:13:50 2018-01-01 12:17:10  \n",
       "3  48.590784  2.483944  274485420 2018-01-01 12:17:10 2018-01-01 12:20:30  "
      ]
     },
     "metadata": {},
     "output_type": "display_data"
    }
   ],
   "source": [
    "from IPython.display import display\n",
    "\n",
    "for subtab in so6['HOP12VY'].clip_altitude(10000, 20000):\n",
    "    display(subtab)"
   ]
  },
  {
   "cell_type": "code",
   "execution_count": null,
   "metadata": {},
   "outputs": [],
   "source": []
  }
 ],
 "metadata": {
  "kernelspec": {
   "display_name": "Python 3",
   "language": "python",
   "name": "python3"
  },
  "language_info": {
   "codemirror_mode": {
    "name": "ipython",
    "version": 3
   },
   "file_extension": ".py",
   "mimetype": "text/x-python",
   "name": "python",
   "nbconvert_exporter": "python",
   "pygments_lexer": "ipython3",
   "version": "3.6.3"
  }
 },
 "nbformat": 4,
 "nbformat_minor": 2
}
