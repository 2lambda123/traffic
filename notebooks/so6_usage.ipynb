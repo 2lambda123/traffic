{
 "cells": [
  {
   "cell_type": "markdown",
   "metadata": {},
   "source": [
    "## Reading a so6 file"
   ]
  },
  {
   "cell_type": "code",
   "execution_count": 1,
   "metadata": {},
   "outputs": [],
   "source": [
    "# Reading a zipped file (with libarchive)\n",
    "from traffic.so6 import SO6\n",
    "so6 = SO6.parse_file(\"../data/20180101_20180101_0000_2359_____m3.so6.7z\")\n",
    "\n",
    "# Serialize \n",
    "so6.to_pkl(\"../data/20180101_20180101_0000_2359_____m3.pkl\")"
   ]
  },
  {
   "cell_type": "code",
   "execution_count": 2,
   "metadata": {
    "collapsed": true
   },
   "outputs": [],
   "source": [
    "# Read the serialized version\n",
    "from traffic.so6 import SO6\n",
    "so6 = SO6.parse_file(\"../data/20180101_20180101_0000_2359_____m3.pkl\")"
   ]
  },
  {
   "cell_type": "code",
   "execution_count": 4,
   "metadata": {},
   "outputs": [
    {
     "name": "stdout",
     "output_type": "stream",
     "text": [
      "HOP36PP {332206265}:\n",
      " LFML (2018-01-01 19:15:40) → LFBD (2018-01-01 19:58:00)\n"
     ]
    },
    {
     "data": {
      "image/svg+xml": [
       "<svg xmlns=\"http://www.w3.org/2000/svg\" xmlns:xlink=\"http://www.w3.org/1999/xlink\" width=\"100.0\" height=\"100.0\" viewBox=\"-0.27617183444508 43.42364854780942 4.98824702164566 1.5124441152811627\" preserveAspectRatio=\"xMinYMin meet\"><g transform=\"matrix(1,0,0,-1,0,88.35974121090001)\"><polyline fill=\"none\" stroke=\"#66cc99\" stroke-width=\"0.0997649404329132\" points=\"4.52732529751,43.6083984375 0.47442180354400004,44.723805573 -0.0914219447545,44.751342773400005\" opacity=\"0.8\" /></g></svg>"
      ],
      "text/plain": [
       "<traffic.so6.so6.Flight at 0x7f26bf8e63c8>"
      ]
     },
     "execution_count": 4,
     "metadata": {},
     "output_type": "execute_result"
    }
   ],
   "source": [
    "# Access a flight with brackets (and completion)\n",
    "so6['HOP36PP']"
   ]
  },
  {
   "cell_type": "code",
   "execution_count": 5,
   "metadata": {},
   "outputs": [
    {
     "name": "stdout",
     "output_type": "stream",
     "text": [
      "HOP36PP {332206265}:\n",
      " LFML (2018-01-01 19:15:40) → LFBD (2018-01-01 19:58:00)\n"
     ]
    },
    {
     "data": {
      "image/svg+xml": [
       "<svg xmlns=\"http://www.w3.org/2000/svg\" xmlns:xlink=\"http://www.w3.org/1999/xlink\" width=\"100.0\" height=\"100.0\" viewBox=\"-0.27617183444508 43.42364854780942 4.98824702164566 1.5124441152811627\" preserveAspectRatio=\"xMinYMin meet\"><g transform=\"matrix(1,0,0,-1,0,88.35974121090001)\"><polyline fill=\"none\" stroke=\"#66cc99\" stroke-width=\"0.0997649404329132\" points=\"4.52732529751,43.6083984375 0.47442180354400004,44.723805573 -0.0914219447545,44.751342773400005\" opacity=\"0.8\" /></g></svg>"
      ],
      "text/plain": [
       "<traffic.so6.so6.Flight at 0x7f26bc91d438>"
      ]
     },
     "execution_count": 5,
     "metadata": {},
     "output_type": "execute_result"
    }
   ],
   "source": [
    "# Access with unique id\n",
    "so6[332206265]"
   ]
  },
  {
   "cell_type": "code",
   "execution_count": 42,
   "metadata": {},
   "outputs": [
    {
     "data": {
      "text/html": [
       "<div>\n",
       "<style>\n",
       "    .dataframe thead tr:only-child th {\n",
       "        text-align: right;\n",
       "    }\n",
       "\n",
       "    .dataframe thead th {\n",
       "        text-align: left;\n",
       "    }\n",
       "\n",
       "    .dataframe tbody tr th {\n",
       "        vertical-align: top;\n",
       "    }\n",
       "</style>\n",
       "<table border=\"1\" class=\"dataframe\">\n",
       "  <thead>\n",
       "    <tr style=\"text-align: right;\">\n",
       "      <th></th>\n",
       "      <th>origin</th>\n",
       "      <th>destination</th>\n",
       "      <th>aircraft</th>\n",
       "      <th>alt1</th>\n",
       "      <th>alt2</th>\n",
       "      <th>callsign</th>\n",
       "      <th>lat1</th>\n",
       "      <th>lon1</th>\n",
       "      <th>lat2</th>\n",
       "      <th>lon2</th>\n",
       "      <th>flight_id</th>\n",
       "      <th>time1</th>\n",
       "      <th>time2</th>\n",
       "    </tr>\n",
       "  </thead>\n",
       "  <tbody>\n",
       "    <tr>\n",
       "      <th>74519</th>\n",
       "      <td>LFML</td>\n",
       "      <td>LFBD</td>\n",
       "      <td>A319</td>\n",
       "      <td>21800</td>\n",
       "      <td>17700</td>\n",
       "      <td>HOP36PP</td>\n",
       "      <td>43.608398</td>\n",
       "      <td>4.527325</td>\n",
       "      <td>44.723806</td>\n",
       "      <td>0.474422</td>\n",
       "      <td>332206265</td>\n",
       "      <td>2018-01-01 19:15:40</td>\n",
       "      <td>2018-01-01 19:52:00</td>\n",
       "    </tr>\n",
       "    <tr>\n",
       "      <th>74520</th>\n",
       "      <td>LFML</td>\n",
       "      <td>LFBD</td>\n",
       "      <td>A319</td>\n",
       "      <td>17700</td>\n",
       "      <td>9500</td>\n",
       "      <td>HOP36PP</td>\n",
       "      <td>44.723806</td>\n",
       "      <td>0.474422</td>\n",
       "      <td>44.751343</td>\n",
       "      <td>-0.091422</td>\n",
       "      <td>332206265</td>\n",
       "      <td>2018-01-01 19:52:00</td>\n",
       "      <td>2018-01-01 19:58:00</td>\n",
       "    </tr>\n",
       "  </tbody>\n",
       "</table>\n",
       "</div>"
      ],
      "text/plain": [
       "      origin destination aircraft   alt1   alt2 callsign       lat1      lon1  \\\n",
       "74519   LFML        LFBD     A319  21800  17700  HOP36PP  43.608398  4.527325   \n",
       "74520   LFML        LFBD     A319  17700   9500  HOP36PP  44.723806  0.474422   \n",
       "\n",
       "            lat2      lon2  flight_id               time1               time2  \n",
       "74519  44.723806  0.474422  332206265 2018-01-01 19:15:40 2018-01-01 19:52:00  \n",
       "74520  44.751343 -0.091422  332206265 2018-01-01 19:52:00 2018-01-01 19:58:00  "
      ]
     },
     "execution_count": 42,
     "metadata": {},
     "output_type": "execute_result"
    }
   ],
   "source": [
    "# A pandas DataFrame is hidden behind\n",
    "so6['HOP36PP'].data.head()"
   ]
  },
  {
   "cell_type": "code",
   "execution_count": 8,
   "metadata": {},
   "outputs": [
    {
     "data": {
      "text/plain": [
       "True"
      ]
     },
     "execution_count": 8,
     "metadata": {},
     "output_type": "execute_result"
    }
   ],
   "source": [
    "# Does the aircraft fly through the sector?\n",
    "from traffic.data import sectors\n",
    "so6['HOP36PP'].intersects(sectors['LFBBBDX'])"
   ]
  },
  {
   "cell_type": "code",
   "execution_count": 9,
   "metadata": {},
   "outputs": [
    {
     "name": "stdout",
     "output_type": "stream",
     "text": [
      "HOP36PP {332206265}:\n",
      " LFML (2018-01-01 19:20:28.471689) → LFBD (2018-01-01 19:58:00)\n"
     ]
    },
    {
     "data": {
      "image/svg+xml": [
       "<svg xmlns=\"http://www.w3.org/2000/svg\" xmlns:xlink=\"http://www.w3.org/1999/xlink\" width=\"100.0\" height=\"100.0\" viewBox=\"-0.2547195791421038 43.59269868370055 4.409036128465303 1.3219417240870612\" preserveAspectRatio=\"xMinYMin meet\"><g transform=\"matrix(1,0,0,-1,0,88.50733909148815)\"><polyline fill=\"none\" stroke=\"#66cc99\" stroke-width=\"0.08818072256930605\" points=\"3.9910189149355952,43.75599631808815 0.47442180354400004,44.723805573 -0.0914219447545,44.751342773400005\" opacity=\"0.8\" /></g></svg>"
      ],
      "text/plain": [
       "<traffic.so6.so6.Flight at 0x7f26c20b47f0>"
      ]
     },
     "execution_count": 9,
     "metadata": {},
     "output_type": "execute_result"
    }
   ],
   "source": [
    "# Clip the flight on the 2D polygon of the sector\n",
    "so6['HOP36PP'].clip(sectors['LFBBBDX'].flatten())"
   ]
  },
  {
   "cell_type": "markdown",
   "metadata": {},
   "source": [
    "## Interpolation and temporal filtering"
   ]
  },
  {
   "cell_type": "code",
   "execution_count": 10,
   "metadata": {},
   "outputs": [
    {
     "data": {
      "text/plain": [
       "array([[  1.81299543e+00,   4.43554142e+01,   1.90541284e+04]])"
      ]
     },
     "execution_count": 10,
     "metadata": {},
     "output_type": "execute_result"
    }
   ],
   "source": [
    "# Interpolation at a given date (str (UTC), int (timestamp) or datetime)\n",
    "so6['HOP36PP'].at(\"2018/01/01 18:40\")"
   ]
  },
  {
   "cell_type": "code",
   "execution_count": 16,
   "metadata": {},
   "outputs": [
    {
     "data": {
      "text/html": [
       "<div>\n",
       "<style>\n",
       "    .dataframe thead tr:only-child th {\n",
       "        text-align: right;\n",
       "    }\n",
       "\n",
       "    .dataframe thead th {\n",
       "        text-align: left;\n",
       "    }\n",
       "\n",
       "    .dataframe tbody tr th {\n",
       "        vertical-align: top;\n",
       "    }\n",
       "</style>\n",
       "<table border=\"1\" class=\"dataframe\">\n",
       "  <thead>\n",
       "    <tr style=\"text-align: right;\">\n",
       "      <th></th>\n",
       "      <th>lon1</th>\n",
       "      <th>lat1</th>\n",
       "      <th>alt1</th>\n",
       "      <th>lon2</th>\n",
       "      <th>lat2</th>\n",
       "      <th>alt2</th>\n",
       "      <th>aircraft</th>\n",
       "      <th>callsign</th>\n",
       "      <th>destination</th>\n",
       "      <th>flight_id</th>\n",
       "      <th>origin</th>\n",
       "      <th>time1</th>\n",
       "      <th>time2</th>\n",
       "    </tr>\n",
       "  </thead>\n",
       "  <tbody>\n",
       "    <tr>\n",
       "      <th>0</th>\n",
       "      <td>3.486212</td>\n",
       "      <td>43.894925</td>\n",
       "      <td>20746.788991</td>\n",
       "      <td>0.474422</td>\n",
       "      <td>44.723806</td>\n",
       "      <td>17700.0</td>\n",
       "      <td>A319</td>\n",
       "      <td>HOP36PP</td>\n",
       "      <td>LFBD</td>\n",
       "      <td>332206265</td>\n",
       "      <td>LFML</td>\n",
       "      <td>2018-01-01 19:25:00</td>\n",
       "      <td>2018-01-01 19:52:00</td>\n",
       "    </tr>\n",
       "    <tr>\n",
       "      <th>1</th>\n",
       "      <td>0.474422</td>\n",
       "      <td>44.723806</td>\n",
       "      <td>17700.000000</td>\n",
       "      <td>0.191500</td>\n",
       "      <td>44.737574</td>\n",
       "      <td>13600.0</td>\n",
       "      <td>A319</td>\n",
       "      <td>HOP36PP</td>\n",
       "      <td>LFBD</td>\n",
       "      <td>332206265</td>\n",
       "      <td>LFML</td>\n",
       "      <td>2018-01-01 19:52:00</td>\n",
       "      <td>2018-01-01 19:55:00</td>\n",
       "    </tr>\n",
       "  </tbody>\n",
       "</table>\n",
       "</div>"
      ],
      "text/plain": [
       "       lon1       lat1          alt1      lon2       lat2     alt2 aircraft  \\\n",
       "0  3.486212  43.894925  20746.788991  0.474422  44.723806  17700.0     A319   \n",
       "1  0.474422  44.723806  17700.000000  0.191500  44.737574  13600.0     A319   \n",
       "\n",
       "  callsign destination  flight_id origin               time1  \\\n",
       "0  HOP36PP        LFBD  332206265   LFML 2018-01-01 19:25:00   \n",
       "1  HOP36PP        LFBD  332206265   LFML 2018-01-01 19:52:00   \n",
       "\n",
       "                time2  \n",
       "0 2018-01-01 19:52:00  \n",
       "1 2018-01-01 19:55:00  "
      ]
     },
     "execution_count": 16,
     "metadata": {},
     "output_type": "execute_result"
    }
   ],
   "source": [
    "# Interpolation inside a given interval\n",
    "so6['HOP36PP'].between(\"2018/01/01 18:25\", \"2018/01/01 18:55\").data"
   ]
  },
  {
   "cell_type": "code",
   "execution_count": 17,
   "metadata": {},
   "outputs": [
    {
     "data": {
      "text/html": [
       "<div>\n",
       "<style>\n",
       "    .dataframe thead tr:only-child th {\n",
       "        text-align: right;\n",
       "    }\n",
       "\n",
       "    .dataframe thead th {\n",
       "        text-align: left;\n",
       "    }\n",
       "\n",
       "    .dataframe tbody tr th {\n",
       "        vertical-align: top;\n",
       "    }\n",
       "</style>\n",
       "<table border=\"1\" class=\"dataframe\">\n",
       "  <thead>\n",
       "    <tr style=\"text-align: right;\">\n",
       "      <th></th>\n",
       "      <th>lon1</th>\n",
       "      <th>lat1</th>\n",
       "      <th>alt1</th>\n",
       "      <th>lon2</th>\n",
       "      <th>lat2</th>\n",
       "      <th>alt2</th>\n",
       "      <th>aircraft</th>\n",
       "      <th>callsign</th>\n",
       "      <th>destination</th>\n",
       "      <th>flight_id</th>\n",
       "      <th>origin</th>\n",
       "      <th>time1</th>\n",
       "      <th>time2</th>\n",
       "    </tr>\n",
       "  </thead>\n",
       "  <tbody>\n",
       "    <tr>\n",
       "      <th>0</th>\n",
       "      <td>3.486212</td>\n",
       "      <td>43.894925</td>\n",
       "      <td>20746.788991</td>\n",
       "      <td>0.474422</td>\n",
       "      <td>44.723806</td>\n",
       "      <td>17700.0</td>\n",
       "      <td>A319</td>\n",
       "      <td>HOP36PP</td>\n",
       "      <td>LFBD</td>\n",
       "      <td>332206265</td>\n",
       "      <td>LFML</td>\n",
       "      <td>2018-01-01 19:25:00</td>\n",
       "      <td>2018-01-01 19:52:00</td>\n",
       "    </tr>\n",
       "    <tr>\n",
       "      <th>1</th>\n",
       "      <td>0.474422</td>\n",
       "      <td>44.723806</td>\n",
       "      <td>17700.000000</td>\n",
       "      <td>0.191500</td>\n",
       "      <td>44.737574</td>\n",
       "      <td>13600.0</td>\n",
       "      <td>A319</td>\n",
       "      <td>HOP36PP</td>\n",
       "      <td>LFBD</td>\n",
       "      <td>332206265</td>\n",
       "      <td>LFML</td>\n",
       "      <td>2018-01-01 19:52:00</td>\n",
       "      <td>2018-01-01 19:55:00</td>\n",
       "    </tr>\n",
       "  </tbody>\n",
       "</table>\n",
       "</div>"
      ],
      "text/plain": [
       "       lon1       lat1          alt1      lon2       lat2     alt2 aircraft  \\\n",
       "0  3.486212  43.894925  20746.788991  0.474422  44.723806  17700.0     A319   \n",
       "1  0.474422  44.723806  17700.000000  0.191500  44.737574  13600.0     A319   \n",
       "\n",
       "  callsign destination  flight_id origin               time1  \\\n",
       "0  HOP36PP        LFBD  332206265   LFML 2018-01-01 19:25:00   \n",
       "1  HOP36PP        LFBD  332206265   LFML 2018-01-01 19:52:00   \n",
       "\n",
       "                time2  \n",
       "0 2018-01-01 19:52:00  \n",
       "1 2018-01-01 19:55:00  "
      ]
     },
     "execution_count": 17,
     "metadata": {},
     "output_type": "execute_result"
    }
   ],
   "source": [
    "# also with timedelta\n",
    "from datetime import timedelta\n",
    "so6['HOP36PP'].between(\"2018/01/01 18:25\", timedelta(minutes=30)).data"
   ]
  },
  {
   "cell_type": "code",
   "execution_count": 18,
   "metadata": {},
   "outputs": [
    {
     "data": {
      "text/plain": [
       "True"
      ]
     },
     "execution_count": 18,
     "metadata": {},
     "output_type": "execute_result"
    }
   ],
   "source": [
    "# intersection within a time interval\n",
    "so6['HOP36PP'].between(\"2018/01/01 18:25\", timedelta(minutes=30)).intersects(sectors['LFBBBDX'])"
   ]
  },
  {
   "cell_type": "code",
   "execution_count": 21,
   "metadata": {},
   "outputs": [
    {
     "data": {
      "text/plain": [
       "False"
      ]
     },
     "execution_count": 21,
     "metadata": {},
     "output_type": "execute_result"
    }
   ],
   "source": [
    "# The flight entered the sector earlier\n",
    "so6['HOP36PP'].between(\"2018/01/01 18:15\", timedelta(minutes=5)).intersects(sectors['LFBBBDX'])"
   ]
  },
  {
   "cell_type": "markdown",
   "metadata": {},
   "source": [
    "## Spatial filtering"
   ]
  },
  {
   "cell_type": "code",
   "execution_count": 22,
   "metadata": {},
   "outputs": [
    {
     "data": {
      "text/plain": [
       "11043"
      ]
     },
     "execution_count": 22,
     "metadata": {},
     "output_type": "execute_result"
    }
   ],
   "source": [
    "# Number of flights\n",
    "len(so6)"
   ]
  },
  {
   "cell_type": "code",
   "execution_count": 23,
   "metadata": {},
   "outputs": [
    {
     "name": "stdout",
     "output_type": "stream",
     "text": [
      "CPU times: user 7.51 s, sys: 3.31 ms, total: 7.52 s\n",
      "Wall time: 7.53 s\n"
     ]
    }
   ],
   "source": [
    "%%time\n",
    "# First, filter inside the bounding box (faster than polygon check)\n",
    "bdx_so6 = so6.inside_bbox(sectors[\"LFBBBDX\"])"
   ]
  },
  {
   "cell_type": "code",
   "execution_count": 24,
   "metadata": {},
   "outputs": [
    {
     "data": {
      "text/plain": [
       "1562"
      ]
     },
     "execution_count": 24,
     "metadata": {},
     "output_type": "execute_result"
    }
   ],
   "source": [
    "len(bdx_so6)"
   ]
  },
  {
   "cell_type": "code",
   "execution_count": 34,
   "metadata": {},
   "outputs": [
    {
     "name": "stdout",
     "output_type": "stream",
     "text": [
      "CPU times: user 19.1 ms, sys: 0 ns, total: 19.1 ms\n",
      "Wall time: 16.2 ms\n"
     ]
    }
   ],
   "source": [
    "%%time\n",
    "noon = so6.at(\"2018/01/01 12:00\")"
   ]
  },
  {
   "cell_type": "code",
   "execution_count": 35,
   "metadata": {},
   "outputs": [
    {
     "name": "stdout",
     "output_type": "stream",
     "text": [
      "CPU times: user 1.64 s, sys: 7.72 ms, total: 1.65 s\n",
      "Wall time: 1.64 s\n"
     ]
    }
   ],
   "source": [
    "%%time\n",
    "# usually faster, but not necessarily safe on small sectors...\n",
    "bdx_flights = noon.inside_bbox(sectors['LFBBBDX']).intersects(sectors['LFBBBDX'])"
   ]
  },
  {
   "cell_type": "markdown",
   "metadata": {},
   "source": [
    "## Misc."
   ]
  },
  {
   "cell_type": "code",
   "execution_count": 36,
   "metadata": {},
   "outputs": [
    {
     "data": {
      "text/plain": [
       "False"
      ]
     },
     "execution_count": 36,
     "metadata": {},
     "output_type": "execute_result"
    }
   ],
   "source": [
    "# Check a callsign is inside a so6\n",
    "'HOP32SS' in so6.callsigns"
   ]
  },
  {
   "cell_type": "code",
   "execution_count": 37,
   "metadata": {},
   "outputs": [
    {
     "data": {
      "text/plain": [
       "2"
      ]
     },
     "execution_count": 37,
     "metadata": {},
     "output_type": "execute_result"
    }
   ],
   "source": [
    "# Number of lines per flight\n",
    "len(so6['HOP36PP'])"
   ]
  },
  {
   "cell_type": "code",
   "execution_count": 39,
   "metadata": {
    "scrolled": false
   },
   "outputs": [
    {
     "data": {
      "text/plain": [
       "<generator object coords at 0x7f2636628410>"
      ]
     },
     "execution_count": 39,
     "metadata": {},
     "output_type": "execute_result"
    }
   ],
   "source": [
    "so6['HOP12VY'].coords"
   ]
  },
  {
   "cell_type": "code",
   "execution_count": 40,
   "metadata": {},
   "outputs": [
    {
     "data": {
      "text/plain": [
       "array([[  1.59301758e-01,   4.35558099e+01,   1.18000000e+04],\n",
       "       [  9.41047668e-01,   4.69243011e+01,   2.91000000e+04],\n",
       "       [  1.09194242e+00,   4.72489386e+01,   2.61000000e+04],\n",
       "       [  1.56757556e+00,   4.82150372e+01,   1.12000000e+04],\n",
       "       [  1.63485014e+00,   4.82876587e+01,   1.09000000e+04]])"
      ]
     },
     "execution_count": 40,
     "metadata": {},
     "output_type": "execute_result"
    }
   ],
   "source": [
    "# Advanced: get coordinates (also LineString)\n",
    "import numpy as np\n",
    "np.stack(so6['HOP12VY'].coords)[:5, :]"
   ]
  },
  {
   "cell_type": "code",
   "execution_count": 43,
   "metadata": {},
   "outputs": [
    {
     "data": {
      "text/plain": [
       "(array('d', [0.15930175781199998, 0.9410476684569999, 1.09194242037, 1.5675755551000001, 1.6348501352200002, 1.86422494742, 1.9026770958499999, 2.3891649748100003, 2.80042949476, 2.82789531507, 2.8312201248999997, 2.6234917891700005]),\n",
       " array('d', [43.555809926200006, 46.9243011475, 47.248938609, 48.215037200400005, 48.287658691400004, 48.51063537600001, 48.529541015599996, 48.566273834700006, 48.6719939668, 48.6932683395, 48.7238531598, 48.754251771099995]))"
      ]
     },
     "execution_count": 43,
     "metadata": {},
     "output_type": "execute_result"
    }
   ],
   "source": [
    "# also LineString (but no altitude :())\n",
    "so6['HOP12VY'].linestring.xy"
   ]
  },
  {
   "cell_type": "code",
   "execution_count": 41,
   "metadata": {
    "scrolled": true
   },
   "outputs": [
    {
     "data": {
      "text/plain": [
       "array([Timestamp('2018-01-01 11:25:10'), Timestamp('2018-01-01 11:57:20'),\n",
       "       Timestamp('2018-01-01 12:00:20'), Timestamp('2018-01-01 12:10:00'),\n",
       "       Timestamp('2018-01-01 12:10:50')], dtype=object)"
      ]
     },
     "execution_count": 41,
     "metadata": {},
     "output_type": "execute_result"
    }
   ],
   "source": [
    "# Get timestamps\n",
    "np.stack(so6['HOP12VY'].times)[:5]"
   ]
  },
  {
   "cell_type": "code",
   "execution_count": null,
   "metadata": {
    "collapsed": true
   },
   "outputs": [],
   "source": []
  }
 ],
 "metadata": {
  "kernelspec": {
   "display_name": "Python 3",
   "language": "python",
   "name": "python3"
  },
  "language_info": {
   "codemirror_mode": {
    "name": "ipython",
    "version": 3
   },
   "file_extension": ".py",
   "mimetype": "text/x-python",
   "name": "python",
   "nbconvert_exporter": "python",
   "pygments_lexer": "ipython3",
   "version": "3.6.3"
  }
 },
 "nbformat": 4,
 "nbformat_minor": 2
}
